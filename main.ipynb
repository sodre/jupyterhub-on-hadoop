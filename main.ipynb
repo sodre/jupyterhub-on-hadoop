{
 "cells": [
  {
   "cell_type": "code",
   "execution_count": 157,
   "metadata": {},
   "outputs": [],
   "source": [
    "import os\n",
    "import shutil\n",
    "\n",
    "import json\n",
    "import ruamel_yaml as yaml\n",
    "import conda_pack\n",
    "\n",
    "from subprocess import check_call, check_output\n",
    "from conda.cli.python_api import Commands, run_command\n",
    "from jinja2 import Environment, FileSystemLoader"
   ]
  },
  {
   "cell_type": "markdown",
   "metadata": {},
   "source": [
    "# Create the JupyterHub Environment"
   ]
  },
  {
   "cell_type": "code",
   "execution_count": 158,
   "metadata": {},
   "outputs": [],
   "source": [
    "with open('environment.yml') as f:\n",
    "    conda_env = yaml.load(f, Loader=yaml.Loader)"
   ]
  },
  {
   "cell_type": "code",
   "execution_count": 159,
   "metadata": {},
   "outputs": [
    {
     "data": {
      "text/plain": [
       "0"
      ]
     },
     "execution_count": 159,
     "metadata": {},
     "output_type": "execute_result"
    }
   ],
   "source": [
    "check_call(\"conda env create --force -p {name}\".format(**conda_env).split(' '))"
   ]
  },
  {
   "cell_type": "markdown",
   "metadata": {},
   "source": [
    "# Add the `parcel.json` and script to `prefix/meta` directory"
   ]
  },
  {
   "cell_type": "code",
   "execution_count": 160,
   "metadata": {},
   "outputs": [],
   "source": [
    "meta_dir = os.path.join(conda_env_name, \"meta\")\n",
    "os.makedirs(meta_dir, exist_ok=True)"
   ]
  },
  {
   "cell_type": "code",
   "execution_count": 161,
   "metadata": {},
   "outputs": [
    {
     "data": {
      "text/plain": [
       "'jupyterhub/meta/jupyterhub_env.sh'"
      ]
     },
     "execution_count": 161,
     "metadata": {},
     "output_type": "execute_result"
    }
   ],
   "source": [
    "shutil.copy('jupyterhub_env.sh', meta_dir)"
   ]
  },
  {
   "cell_type": "code",
   "execution_count": 162,
   "metadata": {},
   "outputs": [],
   "source": [
    "components = json.loads(run_command(Commands.LIST, \"--json\", \"-p\", conda_env['name'])[0])"
   ]
  },
  {
   "cell_type": "code",
   "execution_count": 163,
   "metadata": {},
   "outputs": [],
   "source": [
    "main_version = [x['version'] for x in components if x['name'] == conda_env['name']][0]"
   ]
  },
  {
   "cell_type": "code",
   "execution_count": 164,
   "metadata": {},
   "outputs": [
    {
     "name": "stdout",
     "output_type": "stream",
     "text": [
      "Validating: jupyterhub/meta/parcel.json\n",
      "Validation succeeded.\n",
      "\n"
     ]
    }
   ],
   "source": [
    "jinja_env = Environment(loader=FileSystemLoader(\"templates\"))\n",
    "parcel_template = jinja_env.get_template(\"parcel.yaml\")\n",
    "parcel_rendered = parcel_template.render(conda_env=conda_env,\n",
    "                                         version=main_version,\n",
    "                                         components=components)\n",
    "parcel_dict = yaml.load(parcel_rendered, Loader=yaml.Loader)\n",
    "\n",
    "parcel_json = os.path.join(meta_dir, \"parcel.json\")\n",
    "with open(parcel_json, 'w') as f:\n",
    "    json.dump(parcel_dict, f)\n",
    "    \n",
    "print(check_output(['java', '-jar', 'cm_ext/validator/target/validator.jar', '-p', parcel_json]).decode('utf-8'))"
   ]
  },
  {
   "cell_type": "markdown",
   "metadata": {},
   "source": [
    "# Use Conda-Pack to create .parcel file"
   ]
  },
  {
   "cell_type": "code",
   "execution_count": 165,
   "metadata": {},
   "outputs": [],
   "source": [
    "shutil.rmtree('parcels')\n",
    "os.makedirs('parcels', exist_ok=True)\n",
    "parcel_fqn = '{name}-{version}'.format(**parcel_dict)\n",
    "parcel_file = conda_pack.pack(prefix=conda_env_name,\n",
    "                         output='%s-distro.parcel' % parcel_fqn,\n",
    "                         arcroot=parcel_fqn,\n",
    "                         dest_prefix=\"/opt/cloudera/parcels/%s\" % parcel_fqn,\n",
    "                         format=\"tar.gz\",\n",
    "                         force=True)"
   ]
  },
  {
   "cell_type": "markdown",
   "metadata": {},
   "source": [
    "# Link generated file to different distros"
   ]
  },
  {
   "cell_type": "code",
   "execution_count": 166,
   "metadata": {},
   "outputs": [],
   "source": [
    "distros=[\"el6\", \"el7\"]\n",
    "for distro in distros:\n",
    "    dest_name = \"parcels/{}-{}.parcel\".format(parcel_fqn, distro)\n",
    "    os.symlink(\"../%s-distro.parcel\" % parcel_fqn, dest_name)\n",
    "    check_call(['java', '-jar', 'cm_ext/validator/target/validator.jar', '-f', dest_name])"
   ]
  },
  {
   "cell_type": "markdown",
   "metadata": {},
   "source": [
    "# Generate parcel manifest file"
   ]
  },
  {
   "cell_type": "code",
   "execution_count": 167,
   "metadata": {},
   "outputs": [
    {
     "name": "stdout",
     "output_type": "stream",
     "text": [
      "Scanning directory: parcels\n",
      "Found parcel JUPYTERHUB-0.9.6-0.0.3-el6.parcel\n",
      "Found parcel JUPYTERHUB-0.9.6-0.0.3-el7.parcel\n",
      "\n"
     ]
    }
   ],
   "source": [
    "print(check_output(['python', 'cm_ext/make_manifest/make_manifest.py', 'parcels']).decode('utf-8'))"
   ]
  },
  {
   "cell_type": "code",
   "execution_count": null,
   "metadata": {},
   "outputs": [],
   "source": []
  }
 ],
 "metadata": {
  "kernelspec": {
   "display_name": "Python 3",
   "language": "python",
   "name": "python3"
  },
  "language_info": {
   "codemirror_mode": {
    "name": "ipython",
    "version": 3
   },
   "file_extension": ".py",
   "mimetype": "text/x-python",
   "name": "python",
   "nbconvert_exporter": "python",
   "pygments_lexer": "ipython3",
   "version": "3.7.3"
  }
 },
 "nbformat": 4,
 "nbformat_minor": 2
}
